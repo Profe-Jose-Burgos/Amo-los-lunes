{
 "cells": [
  {
   "cell_type": "code",
   "execution_count": 15,
   "id": "606c6fa3",
   "metadata": {
    "scrolled": false
   },
   "outputs": [],
   "source": [
    "import pandas as pd\n",
    "import matplotlib.pyplot as plt\n",
    "import numpy as np\n",
    "import datetime\n",
    "import math\n",
    "\n",
    "datos = pd.read_csv('delivery_dataset.csv',sep=';')\n",
    "datos = datos.replace('NA',np.nan)"
   ]
  },
  {
   "cell_type": "code",
   "execution_count": 16,
   "id": "6b24c44b",
   "metadata": {},
   "outputs": [
    {
     "data": {
      "image/png": "[encoded data removed]",
      "text/plain": [
       "<Figure size 648x360 with 1 Axes>"
      ]
     },
     "metadata": {
      "needs_background": "light"
     },
     "output_type": "display_data"
    }
   ],
   "source": [
    "def tarde_y_demora(ano, mes, datos):\n",
    "    carga_mensual = datos[datos.Year == ano]\n",
    "    carga_mensual = carga_mensual[carga_mensual.Month == mes]\n",
    "    # plt.subplots(figsize=(15, 7))\n",
    "    try:\n",
    "        plt.bar('tarde y Demora', carga_mensual['tarde_y_demora'][carga_mensual.tarde_y_demora == 1].value_counts(),\n",
    "                width=0.8,\n",
    "                label=str(carga_mensual['tarde_y_demora'][carga_mensual.tarde_y_demora == 1].value_counts()[\n",
    "                              1]) + ' salida: tarde\\nllegada: demorada',\n",
    "                align='center')\n",
    "        plt.legend(loc=\"upper left\", bbox_to_anchor=(1.0, 1.05), shadow=True)\n",
    "\n",
    "    except:\n",
    "        plt.bar('tarde y Demora', 0,\n",
    "                width=0.8,\n",
    "                label=str(0) + ' salida: tarde\\nllegada: demorada',\n",
    "                align='center')\n",
    "        plt.legend(loc=\"upper left\", bbox_to_anchor=(1.0, 1.05), shadow=True)\n",
    "\n",
    "\n",
    "def tarde_y_atiempo(ano, mes, datos):\n",
    "    carga_mensual = datos[datos.Year == ano]\n",
    "    carga_mensual = carga_mensual[carga_mensual.Month == mes]\n",
    "    # plt.subplots(figsize=(15, 7))\n",
    "    try:\n",
    "        plt.bar('tarde y a tiempo', carga_mensual['tarde_y_atiempo'][carga_mensual.tarde_y_atiempo == 1].value_counts(),\n",
    "                width=0.8,\n",
    "                label=str(\n",
    "                    carga_mensual['tarde_y_atiempo'][carga_mensual.tarde_y_atiempo == 1].value_counts()[\n",
    "                        1]) + ' salida: tarde\\nllegada: a tiempo',\n",
    "                align='center')\n",
    "        plt.legend(loc=\"upper left\", bbox_to_anchor=(1.0, 1.05), shadow=True)\n",
    "    except:\n",
    "        plt.bar('tarde y a tiempo', 0,\n",
    "                width=0.8,\n",
    "                label=str(\n",
    "                    0) + ' salida: tarde\\nllegada: a tiempo',\n",
    "                align='center')\n",
    "        plt.legend(loc=\"upper left\", bbox_to_anchor=(1.0, 1.05), shadow=True)\n",
    "\n",
    "\n",
    "\n",
    "def temprano_y_atiempo(ano, mes, datos):\n",
    "    carga_mensual = datos[datos.Year == ano]\n",
    "    carga_mensual = carga_mensual[carga_mensual.Month == mes]\n",
    "    plt.subplots(figsize=(9,5))\n",
    "    try:\n",
    "        plt.bar('temprano y a tiempo',\n",
    "                carga_mensual['temprano_y_atiempo'][carga_mensual.temprano_y_atiempo == 1].value_counts(),\n",
    "                width=0.8,\n",
    "                label=str(\n",
    "                    carga_mensual['temprano_y_atiempo'][carga_mensual.temprano_y_atiempo == 1].value_counts()[\n",
    "                        1]) + ' salida: temprana\\nllegada: a tiempo',\n",
    "                align='center')\n",
    "        plt.legend(loc=\"upper left\", bbox_to_anchor=(1.0, 1.05), shadow=True)\n",
    "    except:\n",
    "        plt.bar('temprano y a tiempo',\n",
    "                0,\n",
    "                width=0.8,\n",
    "                label=str(\n",
    "                    0) + ' salida: temprana\\nllegada: a tiempo',\n",
    "                align='center')\n",
    "        plt.legend(loc=\"upper left\", bbox_to_anchor=(1.0, 1.05), shadow=True)\n",
    "\n",
    "\n",
    "def temprano_y_demora(ano, mes, datos):\n",
    "    carga_mensual = datos[datos.Year == ano]\n",
    "    carga_mensual = carga_mensual[carga_mensual.Month == mes]\n",
    "    # plt.subplots(figsize=(15, 7))\n",
    "    try:\n",
    "        plt.bar('temprano_y_demora',\n",
    "                carga_mensual['temprano_y_demora'][carga_mensual.temprano_y_demora == 1].value_counts(),\n",
    "                width=0.8,\n",
    "                label=str(\n",
    "                    carga_mensual['temprano_y_demora'][carga_mensual.temprano_y_demora == 1].value_counts()[\n",
    "                        1]) + ' atiempo',\n",
    "                align='center')\n",
    "        plt.legend(loc=\"upper left\", bbox_to_anchor=(1.0, 1.05), shadow=True)\n",
    "    except:\n",
    "        plt.bar('temprano_y_demora',\n",
    "                0,\n",
    "                width=0.8,\n",
    "                label=str(\n",
    "                    0) + ' atiempo',\n",
    "                align='center')\n",
    "        plt.legend(loc=\"upper left\", bbox_to_anchor=(1.0, 1.05), shadow=True)\n",
    "def tarde_demora(a, b):\n",
    "    return 1 if a > 0 and b == 1 else 0\n",
    "\n",
    "\n",
    "def temprano_demora(a, b):\n",
    "    return 1 if a <= 0 and b == 1 else 0\n",
    "\n",
    "\n",
    "def tarde_atiempo(a, b):\n",
    "    return 1 if a > 0 and b == 0 else 0\n",
    "\n",
    "\n",
    "def temprano_atiempo(a, b):\n",
    "    return 1 if a <= 0 and b == 0 else 0\n",
    "\n",
    "def grafica(ano,mes,datos):\n",
    "    datos['tarde_y_demora'] = datos.apply(lambda x: tarde_demora(x['Shipment_Delay'], x['Delivery_Status']),\n",
    "                                                          axis=1)\n",
    "    datos['temprano_y_demora'] = datos.apply(\n",
    "        lambda x: temprano_demora(x['Shipment_Delay'], x['Delivery_Status']), axis=1)\n",
    "    datos['tarde_y_atiempo'] = datos.apply(\n",
    "        lambda x: tarde_atiempo(x['Shipment_Delay'], x['Delivery_Status']), axis=1)\n",
    "    datos['temprano_y_atiempo'] = datos.apply(\n",
    "        lambda x: temprano_atiempo(x['Shipment_Delay'], x['Delivery_Status']), axis=1)\n",
    "\n",
    "    temprano_y_atiempo(ano,mes,datos)\n",
    "    tarde_y_atiempo(ano,mes,datos)\n",
    "    temprano_y_demora(ano,mes,datos)\n",
    "    tarde_y_demora(ano,mes,datos)\n",
    "    plt.savefig('relacion_salida_llegada.png')\n",
    "    \n",
    "grafica(2020,1,datos)"
   ]
  },
  {
   "cell_type": "code",
   "execution_count": 17,
   "id": "7d1212a6",
   "metadata": {},
   "outputs": [
    {
     "data": {
      "image/png": "[encoded data removed]",
      "text/plain": [
       "<Figure size 432x288 with 1 Axes>"
      ]
     },
     "metadata": {
      "needs_background": "light"
     },
     "output_type": "display_data"
    }
   ],
   "source": [
    "def mayor_entregas(ano, mes, datos):\n",
    "    carga_mensual = datos[datos.Year == ano][datos.Month == mes]\n",
    "    try:\n",
    "        for i, v in enumerate(carga_mensual['Carrier_Num'].value_counts().head(10).index.tolist()):\n",
    "            plt.bar(str(v), carga_mensual['Carrier_Num'].value_counts()[v], width=0.8)\n",
    "        plt.title(\"Repartidores con más entregas\")\n",
    "    except:\n",
    "        plt.bar(0, 0, width=0.8)\n",
    "    plt.savefig('mayor-entregas.png')\n",
    "def mayor_repartidor(ano, mes, datos):\n",
    "    return int(datos['Carrier_Num'].max())\n",
    "\n",
    "def menor_repartidor(ano, mes, datos):\n",
    "    return int(datos['Carrier_Num'].min())\n",
    "\n",
    "mayor_entregas(2020,1,datos)\n",
    "\n",
    "#mayor_repartidor(2020,1,datos)\n",
    "\n",
    "#menor_repartidor(2020,1,datos)"
   ]
  },
  {
   "cell_type": "code",
   "execution_count": 18,
   "id": "fd20f8f9",
   "metadata": {},
   "outputs": [
    {
     "data": {
      "image/png": "[encoded data removed]",
      "text/plain": [
       "<Figure size 432x288 with 1 Axes>"
      ]
     },
     "metadata": {
      "needs_background": "light"
     },
     "output_type": "display_data"
    }
   ],
   "source": [
    "def menor_entregas(ano, mes, datos):\n",
    "    carga_mensual = datos[datos.Year == ano][datos.Month == mes]\n",
    "    try:\n",
    "        for i, v in enumerate(carga_mensual['Carrier_Num'].value_counts().tail(10).index.tolist()):\n",
    "            plt.bar(str(v), carga_mensual['Carrier_Num'].value_counts()[v], width=0.8,)\n",
    "        plt.title(\"Repartidores con menos entregas\")\n",
    "    except:\n",
    "        plt.bar(0,0, width=0.8)\n",
    "    plt.savefig('menor-entregas.png')\n",
    "menor_entregas(2020,1,datos)"
   ]
  },
  {
   "cell_type": "code",
   "execution_count": 19,
   "id": "3943e49f",
   "metadata": {},
   "outputs": [
    {
     "data": {
      "text/plain": [
       "508"
      ]
     },
     "execution_count": 19,
     "metadata": {},
     "output_type": "execute_result"
    },
    {
     "data": {
      "image/png": "[encoded data removed]",
      "text/plain": [
       "<Figure size 432x288 with 1 Axes>"
      ]
     },
     "metadata": {
      "needs_background": "light"
     },
     "output_type": "display_data"
    }
   ],
   "source": [
    "def min_max_delay(ano, mes, datos):\n",
    "    datos = [int(datos[datos.Year == ano][datos.Month == mes]['Shipment_Delay'].min()),int(datos[datos.Year == ano][datos.Month == mes]['Shipment_Delay'].max())]\n",
    "    plt.bar(['menor','mayor'],datos,align='center')\n",
    "    plt.title('Entrega más y menos retrasada')\n",
    "    plt.savefig('min-max-delay.png')\n",
    "    \n",
    "def min_delay(ano, mes, datos):\n",
    "    return int(datos[datos.Year == ano][datos.Month == mes]['Shipment_Delay'].min())\n",
    "\n",
    "def max_delay(ano, mes, datos):\n",
    "    return int(datos[datos.Year == ano][datos.Month == mes]['Shipment_Delay'].max())\n",
    "    \n",
    "\n",
    "min_max_delay(2020,1,datos)\n",
    "\n",
    "min_delay(2020,1,datos)\n",
    "\n",
    "max_delay(2020,1,datos)"
   ]
  },
  {
   "cell_type": "code",
   "execution_count": 20,
   "id": "7a696bbc",
   "metadata": {
    "scrolled": false
   },
   "outputs": [
    {
     "data": {
      "text/plain": [
       "3488"
      ]
     },
     "execution_count": 20,
     "metadata": {},
     "output_type": "execute_result"
    },
    {
     "data": {
      "image/png": "[encoded data removed]",
      "text/plain": [
       "<Figure size 432x288 with 1 Axes>"
      ]
     },
     "metadata": {},
     "output_type": "display_data"
    }
   ],
   "source": [
    "def entregas_a_tiempo_mes(year,month,datos):\n",
    "    try:\n",
    "        on_time = datos[datos.Year==year][datos.Month==month]['Delivery_Status'].dropna().value_counts()\n",
    "        on_time.plot(kind='pie',title='Porcentaje de entregas a tiempo',labels=['A tiempo','Tarde'],ylabel='Entregas',autopct='%1.0f%%',)\n",
    "        plt.savefig('primera.png')\n",
    "    except:\n",
    "        plt.plot(kind='pie',title='Porcentaje de entregas a tiempo',labels=['A tiempo','Tarde'],ylabel='Entregas',autopct='%1.0f%%',)\n",
    "        plt.savefig('primera.png')\n",
    "\n",
    "def cant_entregas_a_tiempo_mes(year,month,datos):\n",
    "    try:\n",
    "        return int(datos[datos.Year==year][datos.Month==month][datos.Delivery_Status == 0]['Delivery_Status'].dropna().value_counts())\n",
    "    except:\n",
    "        return int(0)\n",
    "        \n",
    "def cant_entregas_tarde_mes(year,month,datos):\n",
    "    try:\n",
    "        return int(datos[datos.Year==year][datos.Month==month][datos.Delivery_Status == 1]['Delivery_Status'].dropna().value_counts())\n",
    "    except:\n",
    "        return int(0)\n",
    "    \n",
    "entregas_a_tiempo_mes(2020,1,datos)\n",
    "\n",
    "cant_entregas_a_tiempo_mes(2020,1,datos)\n",
    "\n",
    "cant_entregas_tarde_mes(2020,1,datos)"
   ]
  },
  {
   "cell_type": "code",
   "execution_count": 21,
   "id": "aa113866",
   "metadata": {},
   "outputs": [],
   "source": [
    "def demoras(year,month,datos):\n",
    "    try:\n",
    "        Shipment_Delay = datos[datos.Year==year][datos.Month==month]['Shipment_Delay'].dropna().value_counts()\n",
    "        Shipment_Delay=pd.DataFrame(data=[Shipment_Delay[Shipment_Delay.index<0].sum(),Shipment_Delay.loc[(Shipment_Delay.index>=0) & (Shipment_Delay.index<=60)].sum(),Shipment_Delay.loc[(Shipment_Delay.index>=60) & (Shipment_Delay.index<=180)].sum(),Shipment_Delay[Shipment_Delay.index>180].sum()], index=['Temprano','Menos de 1 hora','1 a 3 horas','Más de 3 horas'])\n",
    "        Shipment_Delay.plot(kind='bar',title='Cantidad de entregas por tiempo de demora',rot=0, legend=None)\n",
    "        plt.savefig('segunda.png')\n",
    "    except:\n",
    "        plt.plot(kind='pie',title='Porcentaje de entregas a tiempo',labels=['A tiempo','Tarde'],ylabel='Entregas',autopct='%1.0f%%',)\n",
    "        plt.savefig('primera.png')\n",
    "    \n",
    "def shipment_temprano(year,month,datos):\n",
    "    Shipment_Delay = datos[datos.Year==year][datos.Month==month]['Shipment_Delay'].dropna().value_counts()\n",
    "    return Shipment_Delay[Shipment_Delay.index<0].sum()\n",
    "\n",
    "def shipment_menos_1_hora(year,month,datos):\n",
    "    Shipment_Delay = datos[datos.Year==year][datos.Month==month]['Shipment_Delay'].dropna().value_counts()\n",
    "    return Shipment_Delay.loc[(Shipment_Delay.index>=0) & (Shipment_Delay.index<=60)].sum()\n",
    "\n",
    "def shipment_1_a_3_horas(year,month,datos):\n",
    "    Shipment_Delay = datos[datos.Year==year][datos.Month==month]['Shipment_Delay'].dropna().value_counts()\n",
    "    return Shipment_Delay.loc[(Shipment_Delay.index>=60) & (Shipment_Delay.index<=180)].sum()\n",
    "\n",
    "def shipment_mas_3_horas(year,month,datos):\n",
    "    Shipment_Delay = datos[datos.Year==year][datos.Month==month]['Shipment_Delay'].dropna().value_counts()\n",
    "    return Shipment_Delay[Shipment_Delay.index>180].sum()\n",
    "    \n",
    "#demoras(2020,1,datos)\n",
    "\n",
    "#shipment_temprano(2020,1,datos)\n",
    "\n",
    "#shipment_menos_1_hora(2020,1,datos)\n",
    "\n",
    "#shipment_1_a_3_horas(2020,1,datos)\n",
    "\n",
    "#shipment_mas_3_horas(2020,1,datos)"
   ]
  },
  {
   "cell_type": "code",
   "execution_count": 22,
   "id": "a8d11384",
   "metadata": {},
   "outputs": [
    {
     "data": {
      "text/plain": [
       "6"
      ]
     },
     "execution_count": 22,
     "metadata": {},
     "output_type": "execute_result"
    },
    {
     "data": {
      "image/png": "[encoded data removed]",
      "text/plain": [
       "<Figure size 432x288 with 1 Axes>"
      ]
     },
     "metadata": {
      "needs_background": "light"
     },
     "output_type": "display_data"
    }
   ],
   "source": [
    "def entregas_por_dia_semana(year,month,datos):\n",
    "    try:\n",
    "        DayOfWeek = datos[datos.Year==year][datos.Month==month]['DayOfWeek'].value_counts().sort_index()\n",
    "        indices = DayOfWeek.index.tolist()\n",
    "        diassemana = ['Lunes','Martes','Miércoles','Jueves','Viernes','Sábado','Domingo']\n",
    "        indices = [diassemana[i-1] for i in indices]\n",
    "        DayOfWeek.index = indices\n",
    "        DayOfWeek.plot(kind='bar',title='Cantidad de entregas por día de la semana',rot=0, legend=None)\n",
    "        plt.savefig('tercera.png')\n",
    "    except:\n",
    "        plt.plot(kind='bar',title='Cantidad de entregas por día de la semana',rot=0, legend=None)\n",
    "        plt.savefig('tercera.png')\n",
    "    \n",
    "def dia_mas_entregas(year,month,datos):\n",
    "    return datos['DayofMonth'].value_counts().idxmax()\n",
    "\n",
    "def dia_menos_entregas(year,month,datos):\n",
    "    return datos['DayofMonth'].value_counts().idxmin()\n",
    "\n",
    "entregas_por_dia_semana(2020,1,datos)\n",
    "\n",
    "dia_mas_entregas(2020,1,datos)\n",
    "\n",
    "dia_menos_entregas(2020,1,datos)"
   ]
  },
  {
   "cell_type": "code",
   "execution_count": 23,
   "id": "4ac6bcc0",
   "metadata": {},
   "outputs": [
    {
     "data": {
      "text/plain": [
       "133"
      ]
     },
     "execution_count": 23,
     "metadata": {},
     "output_type": "execute_result"
    }
   ],
   "source": [
    "def demora_promedio(year,month,datos):\n",
    "    return datos['Shipment_Delay'].mean()\n",
    "\n",
    "def distancia_prom(year,month,datos):\n",
    "    return datos['Distance'].mean()\n",
    "\n",
    "def distancia_max(year,month,datos):\n",
    "    return datos['Distance'].max()\n",
    "\n",
    "def distancia_min(year,month,datos):\n",
    "    return datos['Distance'].min()\n",
    "\n",
    "demora_promedio(2020,1,datos)\n",
    "\n",
    "distancia_prom(2020,1,datos)\n",
    "\n",
    "distancia_max(2020,1,datos)\n",
    "\n",
    "distancia_min(2020,1,datos)"
   ]
  },
  {
   "cell_type": "code",
   "execution_count": 24,
   "id": "b711b556",
   "metadata": {},
   "outputs": [
    {
     "data": {
      "text/plain": [
       "LAS    665\n",
       "MDW    585\n",
       "PHX    540\n",
       "BWI    459\n",
       "OAK    393\n",
       "Name: Destination, dtype: int64"
      ]
     },
     "execution_count": 24,
     "metadata": {},
     "output_type": "execute_result"
    }
   ],
   "source": [
    "def source_mayor(year,month,datos):\n",
    "    return datos['Source'].value_counts().nlargest(n=5)\n",
    "\n",
    "def source_menor(year,month,datos):\n",
    "    return datos['Source'].value_counts().nsmallest(n=5)\n",
    "   \n",
    "def destino_mayor(year,month,datos):\n",
    "    return datos['Destination'].value_counts().nlargest(n=5)\n",
    "\n",
    "def destino_menor(year,month,datos):\n",
    "    return datos['Destination'].value_counts().nsmallest(n=5)\n",
    "\n",
    "destino_mayor(2020,1,datos)\n",
    "\n",
    "#destino_menor(2020,1,datos)\n",
    "    \n",
    "#source_mayor(2020,1,datos)\n",
    "\n",
    "#source_menor(2020,1,datos)"
   ]
  },
  {
   "cell_type": "code",
   "execution_count": 25,
   "id": "1bbba7f7",
   "metadata": {},
   "outputs": [
    {
     "data": {
      "text/plain": [
       "0"
      ]
     },
     "execution_count": 25,
     "metadata": {},
     "output_type": "execute_result"
    }
   ],
   "source": [
    "def cant_paquetes_dia_de_semana(year,month,day,datos):\n",
    "    return datos[datos.DayOfWeek == day]['DayOfWeek'].sum()\n",
    "\n",
    "cant_paquetes_dia_de_semana(2020,1,3,datos)"
   ]
  },
  {
   "cell_type": "code",
   "execution_count": 26,
   "id": "fcf95061",
   "metadata": {},
   "outputs": [
    {
     "data": {
      "text/plain": [
       "1414    21\n",
       "102     21\n",
       "555     21\n",
       "2361    20\n",
       "806     20\n",
       "Name: Carrier_Num, dtype: int64"
      ]
     },
     "execution_count": 26,
     "metadata": {},
     "output_type": "execute_result"
    }
   ],
   "source": [
    "datos['Carrier_Num'].value_counts().nlargest(n=5)\n",
    "#datos['Carrier_Num'].value_counts().nsmallest(n=100)"
   ]
  },
  {
   "cell_type": "code",
   "execution_count": 27,
   "id": "cd7b3b83",
   "metadata": {},
   "outputs": [
    {
     "data": {
      "text/plain": [
       "8999"
      ]
     },
     "execution_count": 27,
     "metadata": {},
     "output_type": "execute_result"
    }
   ],
   "source": [
    "def cant_entregas(year,month,datos):\n",
    "    return datos.shape[0]\n",
    "\n",
    "def cant_distancia(year,month,datos):\n",
    "    return datos['Distance'].sum()\n",
    "\n",
    "cant_distancia(2020,1,datos)\n",
    "\n",
    "cant_entregas(2020,1,datos)"
   ]
  },
  {
   "cell_type": "code",
   "execution_count": 28,
   "id": "de62f8e1",
   "metadata": {
    "scrolled": false
   },
   "outputs": [],
   "source": [
    "import re\n",
    "import webbrowser\n",
    "import os\n",
    "import imgkit\n",
    "def crear_reporte(year,month,datos):\n",
    "    #Crear graficas\n",
    "    entregas_a_tiempo_mes(year,month,datos)\n",
    "    plt.close() \n",
    "    demoras(year,month,datos)\n",
    "    plt.close()  \n",
    "    entregas_por_dia_semana(year,month,datos)\n",
    "    plt.close()  \n",
    "    grafica(year,month,datos)\n",
    "    plt.close()  \n",
    "    mayor_entregas(year,month,datos)\n",
    "    plt.close()  \n",
    "    menor_entregas(year,month,datos)\n",
    "    plt.close() \n",
    "    min_max_delay(year,month,datos)\n",
    "    plt.close() \n",
    "    #generar reporte\n",
    "    with open('Formato.html', 'r') as form:\n",
    "        html = form.read()\n",
    "    #se reemplazan todos los datos del html con los valores calculados\n",
    "    meses = ['Enero','Febrero','Marzo','Abril','Mayo','Junio','Julio','Agosto','Septiembre','Octubre','Noviembre','Diciembre']\n",
    "    #titulo\n",
    "    html = re.sub('%mes%',meses[month-1],html)\n",
    "    html = re.sub('%cantentregas%',f'{cant_entregas(year,month,datos)}',html)\n",
    "    html = re.sub('%cantmillas%',f'{cant_distancia(year,month,datos)}',html)\n",
    "    html = re.sub('%mesatiempo%',f'{cant_entregas_a_tiempo_mes(year,month,datos)}',html)\n",
    "    html = re.sub('%mestarde%',f'{cant_entregas_tarde_mes(year,month,datos)}',html)\n",
    "    \n",
    "    html = re.sub('%maslargo%',f'{distancia_max(year,month,datos)}',html)\n",
    "    html = re.sub('%mascorto%',f'{distancia_min(year,month,datos)}',html)\n",
    "    \n",
    "    html = re.sub('%cantentregastemp1%',f'{shipment_temprano(year,month,datos)}',html)\n",
    "    html = re.sub('%cantentregastemp2%',f'{shipment_menos_1_hora(year,month,datos)}',html)\n",
    "    html = re.sub('%cantentregastemp3%',f'{shipment_1_a_3_horas(year,month,datos)}',html)\n",
    "    html = re.sub('%cantentregastemp4%',f'{shipment_mas_3_horas(year,month,datos)}',html)\n",
    "    \n",
    "    #min-max-delay\n",
    "    if min_delay(year,month,datos) < 0:\n",
    "        html = re.sub('%mindelay%',f'se adelanto {-min_delay(year,month,datos)}',html)\n",
    "    else:\n",
    "        html = re.sub('%mindelay%',f'se tardo {min_delay(year,month,datos)}',html)\n",
    "    html = re.sub('%maxdelay%',f'se tardo {max_delay(year,month,datos)}',html)\n",
    "    \n",
    "    html = re.sub('%repartmax%',f'{mayor_repartidor(year,month,datos)}',html)\n",
    "    if menor_repartidor(year,month,datos) < 1 or menor_repartidor(year,month,datos) > 1:\n",
    "        html = re.sub('%repartmin%',f'{menor_repartidor(year,month,datos)} entregas',html)\n",
    "    elif menor_repartidor(year,month,datos) == 1:\n",
    "        html = re.sub('%repartmin%',f'{menor_repartidor(year,month,datos)} entrega',html)\n",
    "    \n",
    "    #Datos Generales\n",
    "    html = re.sub('%valor1%',f'{demora_promedio(year,month,datos):.1f} minutos',html)\n",
    "    html = re.sub('%valor2%',f'{distancia_prom(year,month,datos):.1f} millas',html)\n",
    "    html = re.sub('%valor3%',f'{dia_mas_entregas(year,month,datos)}',html)\n",
    "    html = re.sub('%valor4%',f'{dia_menos_entregas(year,month,datos)}',html)\n",
    "    \n",
    "    #por dia\n",
    "    for i in range(1,8):\n",
    "        html = re.sub(f'%cantdia{i}%',f'{cant_paquetes_dia_de_semana(2020,1,i,datos)}',html)    \n",
    "    \n",
    "    #sources mas populares\n",
    "    pandatemp = source_mayor(2020,1,datos)\n",
    "    for i in range(0,5):\n",
    "        html = re.sub(f'%ciudad{i+1}%',f'{pandatemp.index[i]}',html)\n",
    "        html = re.sub(f'%ciudad{i+1}cant%',f'{pandatemp[i]}',html)\n",
    "        \n",
    "    #sources menos populares\n",
    "    pandatemp = source_menor(2020,1,datos)\n",
    "    for i in range(0,5):\n",
    "        html = re.sub(f'%ciudad{i+6}%',f'{pandatemp.index[i]}',html)\n",
    "        html = re.sub(f'%ciudad{i+6}cant%',f'{pandatemp[i]}',html)\n",
    "        \n",
    "    #destinos mas populares\n",
    "    pandatemp = destino_mayor(2020,1,datos)\n",
    "    for i in range(0,5):\n",
    "        html = re.sub(f'%ciudad{i+11}%',f'{pandatemp.index[i]}',html)\n",
    "        html = re.sub(f'%ciudad{i+11}cant%',f'{pandatemp[i]}',html)\n",
    "    \n",
    "    #destinos menos populares\n",
    "    pandatemp = destino_menor(2020,1,datos)\n",
    "    for i in range(0,5):\n",
    "        html = re.sub(f'%ciudad{i+16}%',f'{pandatemp.index[i]}',html)\n",
    "        html = re.sub(f'%ciudad{i+16}cant%',f'{pandatemp[i]}',html)\n",
    "    #Se guarda en el archivo a mostrar\n",
    "    temp = open('temp.html', 'w')\n",
    "    temp.write(html)\n",
    "    temp.close()\n",
    "    #Se abre el reporte\n",
    "    archivo = 'file:///'+os.path.realpath('temp.html')\n",
    "    webbrowser.open_new_tab(archivo)\n",
    "crear_reporte(2020,1,datos)"
   ]
  },
  {
   "cell_type": "code",
   "execution_count": 19,
   "id": "901a9a38",
   "metadata": {
    "scrolled": false
   },
   "outputs": [
    {
     "name": "stdout",
     "output_type": "stream",
     "text": [
      "Loading page (1/2)\r\n",
      "[>                                                           ] 0%\r",
      "[======>                                                     ] 10%\r",
      "QNetworkAccessFileBackendFactory: URL has no schema set, use file:// for files\r\n",
      "QNetworkAccessFileBackendFactory: URL has no schema set, use file:// for files\r\n",
      "QNetworkAccessFileBackendFactory: URL has no schema set, use file:// for files\r\n",
      "QNetworkAccessFileBackendFactory: URL has no schema set, use file:// for files\r\n",
      "QNetworkAccessFileBackendFactory: URL has no schema set, use file:// for files\r\n",
      "QNetworkAccessFileBackendFactory: URL has no schema set, use file:// for files\r\n",
      "QNetworkAccessFileBackendFactory: URL has no schema set, use file:// for files\r\n",
      "QNetworkAccessFileBackendFactory: URL has no schema set, use file:// for files\r\n",
      "[=======>                                                    ] 12%\r",
      "[=========>                                                  ] 15%\r",
      "[==========>                                                 ] 18%\r",
      "[============>                                               ] 21%\r",
      "[==============>                                             ] 24%\r",
      "[================>                                           ] 27%\r",
      "[==================>                                         ] 31%\r",
      "[=======================>                                    ] 39%\r",
      "[============================================================] 100%\r",
      "Rendering (2/2)                                                    \r\n",
      "[>                                                           ] 0%\r",
      "[===============>                                            ] 25%\r",
      "[============================================================] 100%\r",
      "Done                                                               \r\n"
     ]
    }
   ],
   "source": [
    "#se requiere instalar imgkit y wkthmltopdf\n",
    "import imgkit\n",
    "\n",
    "\n",
    "\n",
    "def crear_reporte_imagen(year,month,datos):\n",
    "    crear_reporte(year,month,datos)\n",
    "    \n",
    "    path_wkthmltoimage = r'C:\\Program Files\\wkhtmltopdf\\bin\\wkhtmltoimage.exe'\n",
    "    config = imgkit.config(wkhtmltoimage=path_wkthmltoimage)\n",
    "    \n",
    "    kitoptions = {\n",
    "        \"enable-local-file-access\": None\n",
    "    }\n",
    "    css = 'style.css'\n",
    "    imgkit.from_file('temp.html', 'out.jpg',config=config,options=kitoptions,css=css)\n",
    "    \n",
    "crear_reporte_imagen(2020,1,datos)"
   ]
  },
  {
   "cell_type": "code",
   "execution_count": null,
   "id": "ad4bcd4c",
   "metadata": {},
   "outputs": [],
   "source": [
    "#integracion con discord\n",
    "import discord\n",
    "import nest_asyncio\n",
    "import re\n",
    "nest_asyncio.apply()\n",
    "\n",
    "token = 'UPicmiKg3LNuBzKQ474aCTDPLUXdb1U3fLGlch.3lYHyG.AO2ETN5MDN0YDMycDOwYzM2ATM'\n",
    "\n",
    "intents = discord.Intents.all()\n",
    "client = discord.Client(command_prefix='!', intents=intents)\n",
    "\n",
    "@client.event\n",
    "async def on_ready():\n",
    "    print('Ingresando como {0.user}'.format(client))\n",
    " \n",
    "@client.event\n",
    "async def on_message(message):\n",
    "    print(\"mensaje-->\", message.content)\n",
    "    if message.author == client.user:\n",
    "        return\n",
    "    \n",
    "    if message.content.startswith('$reporte'):\n",
    "        crear_reporte_imagen(2020,1,datos)\n",
    "        await message.channel.send(file=discord.File('out.jpg'))\n",
    " \n",
    "client.run(token[::-1])"
   ]
  },
  {
   "cell_type": "code",
   "execution_count": 14,
   "id": "72200213",
   "metadata": {},
   "outputs": [
    {
     "name": "stdout",
     "output_type": "stream",
     "text": [
      "exactitud: 1.0\n",
      "probabilidades: [[5.20976279e-09 9.99999995e-01]\n",
      " [3.00000090e-14 1.00000000e+00]\n",
      " [9.99999900e-01 1.00000010e-07]\n",
      " ...\n",
      " [9.99999900e-01 1.00000010e-07]\n",
      " [3.00000090e-14 1.00000000e+00]\n",
      " [9.99999098e-01 9.02247896e-07]]\n",
      "Precision: 1.0\n"
     ]
    },
    {
     "data": {
      "image/png": "[encoded data removed]",
      "text/plain": [
       "<Figure size 432x288 with 1 Axes>"
      ]
     },
     "metadata": {
      "needs_background": "light"
     },
     "output_type": "display_data"
    }
   ],
   "source": [
    "#modelo predictivo\n",
    "import pandas as pd\n",
    "from sklearn.svm import SVC\n",
    "from sklearn import metrics\n",
    "from sklearn.model_selection import train_test_split\n",
    "import matplotlib.pyplot as plt\n",
    "import numpy as np\n",
    "\n",
    "# Cargar los datos en un DataFrame\n",
    "datospredict = pd.read_csv('delivery_dataset.csv', sep=';')\n",
    "\n",
    "# Limpiar y preparar los datos\n",
    "datospredict = datospredict.dropna().drop_duplicates() # eliminar valores nulos y eliminar duplicados\n",
    "\n",
    "# Crear variable dependiente y variable independiente\n",
    "x = datospredict[['Actual_Shipment_Time', 'Shipment_Delay', 'Distance']]\n",
    "y = datospredict['Delivery_Status']\n",
    "\n",
    "entrenar_x, probar_x, entrenar_y, probar_y = train_test_split(x, y, test_size=0.3)\n",
    "svm = SVC(kernel = 'linear', probability=True, gamma='scale')\n",
    "\n",
    "svm.fit(entrenar_x,entrenar_y)\n",
    "\n",
    "salida = svm.predict(probar_x)\n",
    "\n",
    "print(\"exactitud:\",metrics.accuracy_score(probar_y, salida))\n",
    "print(\"probabilidades:\", svm.predict_proba(probar_x))\n",
    "print(\"Precision:\",metrics.precision_score(probar_y, salida))\n",
    "matriz_confusion = metrics.confusion_matrix(probar_y, salida)\n",
    "matriz = metrics.ConfusionMatrixDisplay(confusion_matrix = matriz_confusion, display_labels=['A Tiempo','Tarde'])\n",
    "matriz.plot(colorbar=False)\n",
    "plt.savefig('matrizconfusion.png')"
   ]
  },
  {
   "cell_type": "code",
   "execution_count": null,
   "id": "e56aba6a",
   "metadata": {},
   "outputs": [],
   "source": []
  }
 ],
 "metadata": {
  "kernelspec": {
   "display_name": "Python 3 (ipykernel)",
   "language": "python",
   "name": "python3"
  },
  "language_info": {
   "codemirror_mode": {
    "name": "ipython",
    "version": 3
   },
   "file_extension": ".py",
   "mimetype": "text/x-python",
   "name": "python",
   "nbconvert_exporter": "python",
   "pygments_lexer": "ipython3",
   "version": "3.9.12"
  }
 },
 "nbformat": 4,
 "nbformat_minor": 5
}
